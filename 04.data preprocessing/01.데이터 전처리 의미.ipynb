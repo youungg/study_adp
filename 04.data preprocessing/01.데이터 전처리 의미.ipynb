{
 "cells": [
  {
   "cell_type": "markdown",
   "id": "eb96ab33-35ca-4f2d-afdc-00747a234fbf",
   "metadata": {},
   "source": [
    "# 데이터 전처리\n",
    "* 수행하고자 하는 분석에 적합하게 데이터를 가공하는 작업\n",
    "* 분석을 위한 수집한 데이터는 분석에 적합하지 않은 경우가 많음\n",
    "* 결측값이나 이상치가 존재하거나 분석도구에 적합하지 않을 정도로 많은 변수는 분석 결과의 품질을 떨어 뜨린다"
   ]
  },
  {
   "cell_type": "markdown",
   "id": "f094cefb-5b2e-4c70-9008-85493e110fad",
   "metadata": {},
   "source": [
    "* 데이터 클리닝 : 결측치 처리, 이상치 확인 및 정제\n",
    "* 데이터 통합 : 다양한 데이터 파일의 결합\n",
    "* 데이터 변환 : 스케일링, 요약\n",
    "* 데이터 축소 : 변수축소, 라벨링\n",
    "* 불균형 데이터 처리 : 언더 샘플림, 오버 샘플링\n",
    "* 데이터 분할 : train, test 데이터 분할"
   ]
  },
  {
   "cell_type": "markdown",
   "id": "45f09949-6596-47e4-a6fe-a1d800a74449",
   "metadata": {},
   "source": [
    "* 결측치 처리 및 데이터 통합, 데이터 요약, 라벨링 : 2장 참고(dropna, isna, nullna, dupilicates, valuecount, ...)\n",
    "* 4장에서는 데이터 EDA를 수행하고 목적에 따라 데이터 변환 후, 분석시작 전 전처리"
   ]
  },
  {
   "cell_type": "code",
   "execution_count": null,
   "id": "766409e1-ea7f-470c-b6ff-7209af974073",
   "metadata": {},
   "outputs": [],
   "source": []
  }
 ],
 "metadata": {
  "kernelspec": {
   "display_name": "Python 3 (ipykernel)",
   "language": "python",
   "name": "python3"
  },
  "language_info": {
   "codemirror_mode": {
    "name": "ipython",
    "version": 3
   },
   "file_extension": ".py",
   "mimetype": "text/x-python",
   "name": "python",
   "nbconvert_exporter": "python",
   "pygments_lexer": "ipython3",
   "version": "3.8.19"
  }
 },
 "nbformat": 4,
 "nbformat_minor": 5
}

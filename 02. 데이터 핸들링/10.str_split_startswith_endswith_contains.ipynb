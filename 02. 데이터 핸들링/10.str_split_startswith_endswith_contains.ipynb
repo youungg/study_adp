{
 "cells": [
  {
   "cell_type": "markdown",
   "id": "6a42ae34-66dd-4767-bb7d-04bab05ba589",
   "metadata": {},
   "source": [
    "# 문자열 데이터 변환"
   ]
  },
  {
   "cell_type": "markdown",
   "id": "a73031ce-2a97-4f9a-a387-72ae446a5fe2",
   "metadata": {},
   "source": [
    "## 1. 인덱싱\n",
    "* 문자열 형식의 컬럼에서 동일한 위치의 문자열만 추출가능\n",
    "* Series.str()은 데이터프레임의 문자열을 처리하기 위해 주로 사용\n",
    "* str()은 DataFrame이 아닌 Series 의 속성이므로 사용할 때 컬럼을 선택해야함"
   ]
  },
  {
   "cell_type": "code",
   "execution_count": 2,
   "id": "41db9edb-7579-4fbf-ac3f-b4d885c49f11",
   "metadata": {},
   "outputs": [
    {
     "data": {
      "text/html": [
       "<div>\n",
       "<style scoped>\n",
       "    .dataframe tbody tr th:only-of-type {\n",
       "        vertical-align: middle;\n",
       "    }\n",
       "\n",
       "    .dataframe tbody tr th {\n",
       "        vertical-align: top;\n",
       "    }\n",
       "\n",
       "    .dataframe thead th {\n",
       "        text-align: right;\n",
       "    }\n",
       "</style>\n",
       "<table border=\"1\" class=\"dataframe\">\n",
       "  <thead>\n",
       "    <tr style=\"text-align: right;\">\n",
       "      <th></th>\n",
       "      <th>name</th>\n",
       "      <th>location</th>\n",
       "    </tr>\n",
       "  </thead>\n",
       "  <tbody>\n",
       "    <tr>\n",
       "      <th>0</th>\n",
       "      <td>광화문</td>\n",
       "      <td>서울 종로구 사직로 161</td>\n",
       "    </tr>\n",
       "    <tr>\n",
       "      <th>1</th>\n",
       "      <td>호미곶</td>\n",
       "      <td>경북 포항시 남구 호미곶면 대보리 150</td>\n",
       "    </tr>\n",
       "    <tr>\n",
       "      <th>2</th>\n",
       "      <td>첨성대</td>\n",
       "      <td>경북 경주시 인왕동 839-1</td>\n",
       "    </tr>\n",
       "  </tbody>\n",
       "</table>\n",
       "</div>"
      ],
      "text/plain": [
       "  name                location\n",
       "0  광화문          서울 종로구 사직로 161\n",
       "1  호미곶  경북 포항시 남구 호미곶면 대보리 150\n",
       "2  첨성대        경북 경주시 인왕동 839-1"
      ]
     },
     "execution_count": 2,
     "metadata": {},
     "output_type": "execute_result"
    }
   ],
   "source": [
    "import pandas as pd\n",
    "landmark = pd.DataFrame({'name' : ['광화문', '호미곶', '첨성대'],\n",
    "                        'location': ['서울 종로구 사직로 161',\n",
    "                                    '경북 포항시 남구 호미곶면 대보리 150',\n",
    "                                    '경북 경주시 인왕동 839-1']})\n",
    "landmark"
   ]
  },
  {
   "cell_type": "code",
   "execution_count": 3,
   "id": "43fd06e2-7879-4fda-b0c8-8f53ad044695",
   "metadata": {},
   "outputs": [
    {
     "data": {
      "text/plain": [
       "0    종로구\n",
       "1    포항시\n",
       "2    경주시\n",
       "Name: location, dtype: object"
      ]
     },
     "execution_count": 3,
     "metadata": {},
     "output_type": "execute_result"
    }
   ],
   "source": [
    "landmark['location'].str[3:6]"
   ]
  },
  {
   "cell_type": "code",
   "execution_count": 7,
   "id": "17ab752f-bbd6-45ce-99db-14df766d3c2c",
   "metadata": {},
   "outputs": [
    {
     "data": {
      "text/plain": [
       "0            서울 종로구 사직로 161\n",
       "1    경북 포항시 남구 호미곶면 대보리 150\n",
       "2          경북 경주시 인왕동 839-1\n",
       "Name: location, dtype: object"
      ]
     },
     "execution_count": 7,
     "metadata": {},
     "output_type": "execute_result"
    }
   ],
   "source": [
    "landmark['location'].str[:]"
   ]
  },
  {
   "cell_type": "markdown",
   "id": "7e39ab15-372a-4799-8abf-bfbbdc28ffb5",
   "metadata": {},
   "source": [
    "## 2. 분할\n",
    "* 특정한 문자영 값을 기준으로 하나의 컬럼을 여러개의 컬럼값으로 분할할 수 있다.\n",
    "* expand = True로 지정하면 분할된 문자열을 별도의 열로 확장할 수 있다.\n",
    "* 문자열 전체가 아닌 특정한 순서의 값만을 선택 가능"
   ]
  },
  {
   "cell_type": "code",
   "execution_count": 8,
   "id": "942133d7-4063-403e-9092-10a0f83153da",
   "metadata": {},
   "outputs": [
    {
     "data": {
      "text/html": [
       "<div>\n",
       "<style scoped>\n",
       "    .dataframe tbody tr th:only-of-type {\n",
       "        vertical-align: middle;\n",
       "    }\n",
       "\n",
       "    .dataframe tbody tr th {\n",
       "        vertical-align: top;\n",
       "    }\n",
       "\n",
       "    .dataframe thead th {\n",
       "        text-align: right;\n",
       "    }\n",
       "</style>\n",
       "<table border=\"1\" class=\"dataframe\">\n",
       "  <thead>\n",
       "    <tr style=\"text-align: right;\">\n",
       "      <th></th>\n",
       "      <th>0</th>\n",
       "      <th>1</th>\n",
       "      <th>2</th>\n",
       "      <th>3</th>\n",
       "      <th>4</th>\n",
       "      <th>5</th>\n",
       "    </tr>\n",
       "  </thead>\n",
       "  <tbody>\n",
       "    <tr>\n",
       "      <th>0</th>\n",
       "      <td>서울</td>\n",
       "      <td>종로구</td>\n",
       "      <td>사직로</td>\n",
       "      <td>161</td>\n",
       "      <td>None</td>\n",
       "      <td>None</td>\n",
       "    </tr>\n",
       "    <tr>\n",
       "      <th>1</th>\n",
       "      <td>경북</td>\n",
       "      <td>포항시</td>\n",
       "      <td>남구</td>\n",
       "      <td>호미곶면</td>\n",
       "      <td>대보리</td>\n",
       "      <td>150</td>\n",
       "    </tr>\n",
       "    <tr>\n",
       "      <th>2</th>\n",
       "      <td>경북</td>\n",
       "      <td>경주시</td>\n",
       "      <td>인왕동</td>\n",
       "      <td>839-1</td>\n",
       "      <td>None</td>\n",
       "      <td>None</td>\n",
       "    </tr>\n",
       "  </tbody>\n",
       "</table>\n",
       "</div>"
      ],
      "text/plain": [
       "    0    1    2      3     4     5\n",
       "0  서울  종로구  사직로    161  None  None\n",
       "1  경북  포항시   남구   호미곶면   대보리   150\n",
       "2  경북  경주시  인왕동  839-1  None  None"
      ]
     },
     "execution_count": 8,
     "metadata": {},
     "output_type": "execute_result"
    }
   ],
   "source": [
    "landmark['location'].str.split(\" \", expand = True)"
   ]
  },
  {
   "cell_type": "code",
   "execution_count": 9,
   "id": "be3d4659-1757-4448-a643-e88fdfc4063c",
   "metadata": {},
   "outputs": [
    {
     "data": {
      "text/plain": [
       "0              [서울, 종로구, 사직로, 161]\n",
       "1    [경북, 포항시, 남구, 호미곶면, 대보리, 150]\n",
       "2            [경북, 경주시, 인왕동, 839-1]\n",
       "Name: location, dtype: object"
      ]
     },
     "execution_count": 9,
     "metadata": {},
     "output_type": "execute_result"
    }
   ],
   "source": [
    "landmark['location'].str.split(\" \", expand = False)"
   ]
  },
  {
   "cell_type": "code",
   "execution_count": 11,
   "id": "7b5536da-7d83-4e4e-9822-f77a67d93697",
   "metadata": {},
   "outputs": [
    {
     "data": {
      "text/html": [
       "<div>\n",
       "<style scoped>\n",
       "    .dataframe tbody tr th:only-of-type {\n",
       "        vertical-align: middle;\n",
       "    }\n",
       "\n",
       "    .dataframe tbody tr th {\n",
       "        vertical-align: top;\n",
       "    }\n",
       "\n",
       "    .dataframe thead th {\n",
       "        text-align: right;\n",
       "    }\n",
       "</style>\n",
       "<table border=\"1\" class=\"dataframe\">\n",
       "  <thead>\n",
       "    <tr style=\"text-align: right;\">\n",
       "      <th></th>\n",
       "      <th>name</th>\n",
       "      <th>location</th>\n",
       "      <th>loc_1</th>\n",
       "    </tr>\n",
       "  </thead>\n",
       "  <tbody>\n",
       "    <tr>\n",
       "      <th>0</th>\n",
       "      <td>광화문</td>\n",
       "      <td>서울 종로구 사직로 161</td>\n",
       "      <td>서울</td>\n",
       "    </tr>\n",
       "    <tr>\n",
       "      <th>1</th>\n",
       "      <td>호미곶</td>\n",
       "      <td>경북 포항시 남구 호미곶면 대보리 150</td>\n",
       "      <td>경북</td>\n",
       "    </tr>\n",
       "    <tr>\n",
       "      <th>2</th>\n",
       "      <td>첨성대</td>\n",
       "      <td>경북 경주시 인왕동 839-1</td>\n",
       "      <td>경북</td>\n",
       "    </tr>\n",
       "  </tbody>\n",
       "</table>\n",
       "</div>"
      ],
      "text/plain": [
       "  name                location loc_1\n",
       "0  광화문          서울 종로구 사직로 161    서울\n",
       "1  호미곶  경북 포항시 남구 호미곶면 대보리 150    경북\n",
       "2  첨성대        경북 경주시 인왕동 839-1    경북"
      ]
     },
     "execution_count": 11,
     "metadata": {},
     "output_type": "execute_result"
    }
   ],
   "source": [
    "landmark['loc_1'] = landmark['location'].str.split(\" \").str[0]\n",
    "landmark"
   ]
  },
  {
   "cell_type": "markdown",
   "id": "45a8f01d-0fdc-48a8-aee4-529d855d222e",
   "metadata": {},
   "source": [
    "## 3. 탐색\n",
    "* 시작, 끝, 포함글자 기준으로 탐색\n",
    "* 결과는 Boolean"
   ]
  },
  {
   "cell_type": "code",
   "execution_count": 12,
   "id": "62d512ab-cec9-4c6f-9e2e-dabadeece03c",
   "metadata": {},
   "outputs": [
    {
     "data": {
      "text/plain": [
       "0     True\n",
       "1    False\n",
       "2    False\n",
       "Name: location, dtype: bool"
      ]
     },
     "execution_count": 12,
     "metadata": {},
     "output_type": "execute_result"
    }
   ],
   "source": [
    "landmark['location'].str.startswith('서울')"
   ]
  },
  {
   "cell_type": "code",
   "execution_count": 13,
   "id": "c1a08f76-e519-47e0-b150-05a3f617af53",
   "metadata": {},
   "outputs": [
    {
     "data": {
      "text/plain": [
       "0     True\n",
       "1    False\n",
       "2     True\n",
       "Name: location, dtype: bool"
      ]
     },
     "execution_count": 13,
     "metadata": {},
     "output_type": "execute_result"
    }
   ],
   "source": [
    "landmark['location'].str.endswith('1')"
   ]
  },
  {
   "cell_type": "code",
   "execution_count": 14,
   "id": "e85498c7-cc77-4dfb-846e-3862dd579c0c",
   "metadata": {},
   "outputs": [
    {
     "data": {
      "text/plain": [
       "0    True\n",
       "1    True\n",
       "2    True\n",
       "Name: location, dtype: bool"
      ]
     },
     "execution_count": 14,
     "metadata": {},
     "output_type": "execute_result"
    }
   ],
   "source": [
    "landmark['location'].str.contains('1')"
   ]
  },
  {
   "cell_type": "code",
   "execution_count": null,
   "id": "a28aaab2-b694-4447-85ad-d4620a1a1549",
   "metadata": {},
   "outputs": [],
   "source": []
  }
 ],
 "metadata": {
  "kernelspec": {
   "display_name": "Python 3 (ipykernel)",
   "language": "python",
   "name": "python3"
  },
  "language_info": {
   "codemirror_mode": {
    "name": "ipython",
    "version": 3
   },
   "file_extension": ".py",
   "mimetype": "text/x-python",
   "name": "python",
   "nbconvert_exporter": "python",
   "pygments_lexer": "ipython3",
   "version": "3.8.19"
  }
 },
 "nbformat": 4,
 "nbformat_minor": 5
}
